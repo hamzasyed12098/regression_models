{
 "cells": [
  {
   "cell_type": "code",
   "execution_count": 10,
   "metadata": {},
   "outputs": [
    {
     "name": "stdout",
     "output_type": "stream",
     "text": [
      "Solution:\n",
      "x1 = (B2*F*s + F*K2)/(B1*B2*s**2 + B1*K2*s + B2*K2*s + B2*M*s**3 + K2*M*s**2)\n",
      "x2 = B2*F/(B1*B2*s + B1*K2 + B2*K2 + B2*M*s**2 + K2*M*s)\n"
     ]
    }
   ],
   "source": [
    "from sympy import symbols, Eq, solve\n",
    "\n",
    "x1, x2, B2, s, M, B, F, K2, B1 = symbols('x1 x2 B2 s M B F K2 B1')\n",
    "\n",
    "# Define the equations symbolically\n",
    "eq1 = x1*((M*s**2)+(B1+B2)*s) - B2*s*x2 - F\n",
    "eq2 = -B2*s*x1 + x2*((B2*s)+K2)\n",
    "\n",
    "# Solve the system of equations using SymPy's solve()\n",
    "solution = solve([eq1, eq2], [x1, x2])\n",
    "\n",
    "# Print the symbolic solutions\n",
    "print(\"Solution:\")\n",
    "print(\"x1 =\", solution[x1])\n",
    "print(\"x2 =\", solution[x2])\n"
   ]
  }
 ],
 "metadata": {
  "kernelspec": {
   "display_name": "base",
   "language": "python",
   "name": "python3"
  },
  "language_info": {
   "codemirror_mode": {
    "name": "ipython",
    "version": 3
   },
   "file_extension": ".py",
   "mimetype": "text/x-python",
   "name": "python",
   "nbconvert_exporter": "python",
   "pygments_lexer": "ipython3",
   "version": "3.9.7"
  }
 },
 "nbformat": 4,
 "nbformat_minor": 2
}
